{
 "cells": [
  {
   "cell_type": "code",
   "execution_count": 1,
   "metadata": {},
   "outputs": [],
   "source": [
    "#https://www.w3resource.com/python-exercises/python-functions-exercises.php#EDITOR"
   ]
  },
  {
   "cell_type": "code",
   "execution_count": null,
   "metadata": {},
   "outputs": [],
   "source": [
    "#1. write a python function to find the Max of three numbers\n",
    "\n",
    "#define the function\n",
    "def max(numbers):\n",
    "       "
   ]
  },
  {
   "cell_type": "code",
   "execution_count": 17,
   "metadata": {},
   "outputs": [
    {
     "name": "stdout",
     "output_type": "stream",
     "text": [
      "150\n",
      "150\n"
     ]
    }
   ],
   "source": [
    "#2. Write a python function to sum all the numbers in a list\n",
    "\n",
    "#provide a list of numbers\n",
    "list1 = [1,3,5,7,9,11]\n",
    "list2 = [2,4,6,8,10]\n",
    "list3 = [10,20,30,40,50]\n",
    "\n",
    "def sum(numbers):      #define the function\n",
    "    total = 0          #initialize a counter\n",
    "    for x in numbers:  #for each number(x) in the parameter \"numbers\" passed\n",
    "        total += x     #increase the counter by the number \"x\" (+=) it is currently on\n",
    "    return total       #then return the new total       \n",
    "    \n",
    "    #the loop will stop when it has ran through every number in the \"numbers\" parameter\n",
    "\n",
    "#when loop is done, print out the function and pass it one of the numbers list from above\n",
    "print(sum(list3))\n",
    "\n",
    "#can also pass the actual numbers instead of a list and the sum function will produce the same results\n",
    "print(sum((10,20,30,40,50)))\n"
   ]
  },
  {
   "cell_type": "code",
   "execution_count": 7,
   "metadata": {},
   "outputs": [
    {
     "name": "stdout",
     "output_type": "stream",
     "text": [
      "-336\n"
     ]
    }
   ],
   "source": [
    "#3. Write a Python function to multiply all the numbers in a list\n",
    "#Sample List : (8, 2, 3, -1, 7) -- Expected Output : -336\n",
    "\n",
    "#provide a list\n",
    "mult_nums = [8,2,3,-1,7]\n",
    "\n",
    "#definte the function\n",
    "def multiply(numbers):\n",
    "    total = 1\n",
    "    for x in numbers:\n",
    "        total = total * x #(*=) similar to (+=), this says take the current number \"total\", multiply it by the current value X in loop, and assign this new output to variable total\n",
    "    return total    \n",
    "\n",
    "print(multiply(mult_nums))    "
   ]
  },
  {
   "cell_type": "code",
   "execution_count": null,
   "metadata": {},
   "outputs": [],
   "source": [
    "#4. Write a Python program to reverse a string. \n",
    "\n",
    "def reverse():\n",
    "\n",
    "    return \n",
    "print(reverse())"
   ]
  },
  {
   "cell_type": "code",
   "execution_count": null,
   "metadata": {},
   "outputs": [],
   "source": [
    "#5. Write a Python function to calculate the factorial of a number (a non-negative integer). The function accepts the number as an argument."
   ]
  }
 ],
 "metadata": {
  "interpreter": {
   "hash": "b81bd998f5e06d1e12e6f5797a5ef2e6ca2a465bf0d0caddc9c77c652e6c18e6"
  },
  "kernelspec": {
   "display_name": "Python 3.8.12 ('datavenv')",
   "language": "python",
   "name": "python3"
  },
  "language_info": {
   "codemirror_mode": {
    "name": "ipython",
    "version": 3
   },
   "file_extension": ".py",
   "mimetype": "text/x-python",
   "name": "python",
   "nbconvert_exporter": "python",
   "pygments_lexer": "ipython3",
   "version": "3.8.12"
  },
  "orig_nbformat": 4
 },
 "nbformat": 4,
 "nbformat_minor": 2
}
