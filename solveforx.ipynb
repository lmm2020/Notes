{
 "cells": [
  {
   "cell_type": "code",
   "execution_count": 6,
   "metadata": {},
   "outputs": [],
   "source": [
    "'''You are given an array of integers, numbers, and two integers, left and right. \n",
    "Your task is to calculate a boolean array, result, where result[i] = true if there exists and integer X \n",
    "such that numbers[i] = (i +1) * x and left =< X =< right. Otherwise, result[i] should be set to false '''\n",
    "\n",
    "''' EXAMPLE \n",
    "For numbers =[8, 5 , 6 , 16 , 5], left = 1, and right = 3 the output should be:\n",
    "solution(numbers, left, right) = [false, false, true, false, true] \n",
    "\n",
    "numbers[0] = 8  we need to find a value of x such that 1 * x = 8\n",
    "but the only value that would work is x = 8 which doesn't satisfy the boundaries 1 =< X =< 3, \n",
    "so result[0] = false. \n",
    "\n",
    "numbers[1] = 5  we need to find a value of x such that 2 * x = 5\n",
    "but there is no integer that would satisfy this equation within boundaries 1 =< X =< 3, \n",
    "so result[1] = false. \n",
    "\n",
    "numbers[2] = 6  we need to find a value of x such that 3 * x = 6\n",
    "we can choose x = 2 because 3 * 2 = 6 AND would satisfy the boundaries 1 =< X =< 3, \n",
    "so result[2] = true. \n",
    "\n",
    "numbers[3] = 16 we need to find a value of x such that 4 * x = 16\n",
    "but there is no integer that would satisfy this equation within boundaries 1 =< x =< 3,\n",
    "so result[3] = false. \n",
    "\n",
    "numbers[4] = 5 we need to find a value of x such that 5 * x = 5\n",
    "we can choose x = 1 because 5 * 1 = 5 AND would satisfy the boundaries 1 =< x =< 3,\n",
    "so result[4] = true.\n",
    "'''\n",
    "\n",
    "\n",
    "def solution(numbers, left, right):\n",
    "    count = 1\n",
    "    x = range(left, right +1)\n",
    "    for number in numbers:\n",
    "        if count * x == number:  \n",
    "            print('true')\n",
    "            count += 1\n",
    "        else: \n",
    "            print('false')\n",
    "            count += 1\n",
    "    return solution"
   ]
  },
  {
   "cell_type": "code",
   "execution_count": 7,
   "metadata": {},
   "outputs": [
    {
     "ename": "TypeError",
     "evalue": "unsupported operand type(s) for *: 'int' and 'range'",
     "output_type": "error",
     "traceback": [
      "\u001b[1;31m---------------------------------------------------------------------------\u001b[0m",
      "\u001b[1;31mTypeError\u001b[0m                                 Traceback (most recent call last)",
      "\u001b[1;32mUbuntu-18.04\\home\\lmedina20\\programming-notes\\solveforx.ipynb Cell 2\u001b[0m in \u001b[0;36m<module>\u001b[1;34m\u001b[0m\n\u001b[0;32m      <a href='vscode-notebook-cell://wsl%24/Ubuntu-18.04/home/lmedina20/programming-notes/solveforx.ipynb#ch0000001?line=1'>2</a>\u001b[0m left \u001b[39m=\u001b[39m \u001b[39m1\u001b[39m\n\u001b[0;32m      <a href='vscode-notebook-cell://wsl%24/Ubuntu-18.04/home/lmedina20/programming-notes/solveforx.ipynb#ch0000001?line=2'>3</a>\u001b[0m right \u001b[39m=\u001b[39m \u001b[39m3\u001b[39m\n\u001b[1;32m----> <a href='vscode-notebook-cell://wsl%24/Ubuntu-18.04/home/lmedina20/programming-notes/solveforx.ipynb#ch0000001?line=3'>4</a>\u001b[0m solution(numbers, left, right)\n",
      "\u001b[1;32mUbuntu-18.04\\home\\lmedina20\\programming-notes\\solveforx.ipynb Cell 2\u001b[0m in \u001b[0;36msolution\u001b[1;34m(numbers, left, right)\u001b[0m\n\u001b[0;32m     <a href='vscode-notebook-cell://wsl%24/Ubuntu-18.04/home/lmedina20/programming-notes/solveforx.ipynb#ch0000001?line=32'>33</a>\u001b[0m x \u001b[39m=\u001b[39m \u001b[39mrange\u001b[39m(left, right \u001b[39m+\u001b[39m\u001b[39m1\u001b[39m)\n\u001b[0;32m     <a href='vscode-notebook-cell://wsl%24/Ubuntu-18.04/home/lmedina20/programming-notes/solveforx.ipynb#ch0000001?line=33'>34</a>\u001b[0m \u001b[39mfor\u001b[39;00m number \u001b[39min\u001b[39;00m numbers:\n\u001b[1;32m---> <a href='vscode-notebook-cell://wsl%24/Ubuntu-18.04/home/lmedina20/programming-notes/solveforx.ipynb#ch0000001?line=34'>35</a>\u001b[0m     \u001b[39mif\u001b[39;00m count \u001b[39m*\u001b[39;49m x \u001b[39m==\u001b[39m number:  \n\u001b[0;32m     <a href='vscode-notebook-cell://wsl%24/Ubuntu-18.04/home/lmedina20/programming-notes/solveforx.ipynb#ch0000001?line=35'>36</a>\u001b[0m         \u001b[39mprint\u001b[39m(\u001b[39m'\u001b[39m\u001b[39mtrue\u001b[39m\u001b[39m'\u001b[39m)\n\u001b[0;32m     <a href='vscode-notebook-cell://wsl%24/Ubuntu-18.04/home/lmedina20/programming-notes/solveforx.ipynb#ch0000001?line=36'>37</a>\u001b[0m         count \u001b[39m+\u001b[39m\u001b[39m=\u001b[39m \u001b[39m1\u001b[39m\n",
      "\u001b[1;31mTypeError\u001b[0m: unsupported operand type(s) for *: 'int' and 'range'"
     ]
    }
   ],
   "source": [
    "numbers =[8, 5 , 6 , 16 , 5]\n",
    "left = 1\n",
    "right = 3\n",
    "solution(numbers, left, right)"
   ]
  },
  {
   "cell_type": "code",
   "execution_count": null,
   "metadata": {},
   "outputs": [],
   "source": []
  }
 ],
 "metadata": {
  "kernelspec": {
   "display_name": "Python 3.9.6 64-bit",
   "language": "python",
   "name": "python3"
  },
  "language_info": {
   "codemirror_mode": {
    "name": "ipython",
    "version": 3
   },
   "file_extension": ".py",
   "mimetype": "text/x-python",
   "name": "python",
   "nbconvert_exporter": "python",
   "pygments_lexer": "ipython3",
   "version": "3.9.6"
  },
  "orig_nbformat": 4,
  "vscode": {
   "interpreter": {
    "hash": "35814977a283cd769a53edfec29b9560f6d54622677c01a029034c610ae113d2"
   }
  }
 },
 "nbformat": 4,
 "nbformat_minor": 2
}
