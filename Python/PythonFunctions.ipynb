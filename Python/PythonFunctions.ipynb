{
 "cells": [
  {
   "cell_type": "code",
   "execution_count": 1,
   "metadata": {},
   "outputs": [],
   "source": [
    "#https://www.w3resource.com/python-exercises/python-functions-exercises.php#EDITOR"
   ]
  },
  {
   "cell_type": "code",
   "execution_count": null,
   "metadata": {},
   "outputs": [],
   "source": [
    "#1. write a python function to find the Max of three numbers\n",
    "\n",
    "#define the function\n",
    "def max(numbers):\n",
    "       "
   ]
  },
  {
   "cell_type": "code",
   "execution_count": 17,
   "metadata": {},
   "outputs": [
    {
     "name": "stdout",
     "output_type": "stream",
     "text": [
      "150\n",
      "150\n"
     ]
    }
   ],
   "source": [
    "#2. Write a python function to sum all the numbers in a list\n",
    "\n",
    "#provide a list of numbers\n",
    "list1 = [1,3,5,7,9,11]\n",
    "list2 = [2,4,6,8,10]\n",
    "list3 = [10,20,30,40,50]\n",
    "\n",
    "def sum(numbers):      #define the function\n",
    "    total = 0          #initialize a counter\n",
    "    for x in numbers:  #for each number(x) in the parameter \"numbers\" passed\n",
    "        total += x     #increase the counter by the number \"x\" (+=) it is currently on\n",
    "    return total       #then return the new total       \n",
    "    \n",
    "    #the loop will stop when it has ran through every number in the \"numbers\" parameter\n",
    "\n",
    "#when loop is done, print out the function and pass it one of the numbers list from above\n",
    "print(sum(list3))\n",
    "\n",
    "#can also pass the actual numbers instead of a list and the sum function will produce the same results\n",
    "print(sum((10,20,30,40,50)))\n"
   ]
  },
  {
   "cell_type": "code",
   "execution_count": 7,
   "metadata": {},
   "outputs": [
    {
     "name": "stdout",
     "output_type": "stream",
     "text": [
      "-336\n"
     ]
    }
   ],
   "source": [
    "#3. Write a Python function to multiply all the numbers in a list\n",
    "#Sample List : (8, 2, 3, -1, 7) -- Expected Output : -336\n",
    "\n",
    "#provide a list\n",
    "mult_nums = [8,2,3,-1,7]\n",
    "\n",
    "#definte the function\n",
    "def multiply(numbers):\n",
    "    total = 1\n",
    "    for x in numbers:\n",
    "        total = total * x #(*=) similar to (+=), this says take the current number \"total\", multiply it by the current value X in loop, and assign this new output to variable total\n",
    "    return total    \n",
    "\n",
    "print(multiply(mult_nums))    "
   ]
  },
  {
   "cell_type": "code",
   "execution_count": null,
   "metadata": {},
   "outputs": [],
   "source": [
    "#4. Write a Python program to reverse a string. \n",
    "\n",
    "def reverse():\n",
    "\n",
    "    return \n",
    "print(reverse())"
   ]
  },
  {
   "cell_type": "code",
   "execution_count": null,
   "metadata": {},
   "outputs": [],
   "source": [
    "#5. Write a Python function to calculate the factorial of a number (a non-negative integer). The function accepts the number as an argument."
   ]
  },
  {
   "cell_type": "code",
   "execution_count": 21,
   "metadata": {},
   "outputs": [],
   "source": [
    "#6. FizzBuzz Problem:  given number n, check if multiple of 3 and/or 5, and print out accordingly. \n",
    "\n",
    "def fizzBuzz(n):\n",
    "    for i in range(1, (n+1)):\n",
    "        if i % 3 == 0 and i % 5 == 0:\n",
    "            print(\"FizzBuzz\")\n",
    "        elif i % 3 == 0:\n",
    "            print(\"Fizz\")\n",
    "        elif i % 5 == 0:\n",
    "            print(\"Buzz\")\n",
    "        else:\n",
    "            print(i)"
   ]
  },
  {
   "cell_type": "code",
   "execution_count": 23,
   "metadata": {},
   "outputs": [
    {
     "name": "stdout",
     "output_type": "stream",
     "text": [
      "1\n",
      "2\n",
      "Fizz\n",
      "4\n",
      "Buzz\n"
     ]
    }
   ],
   "source": [
    "fizzBuzz(5)"
   ]
  },
  {
   "cell_type": "code",
   "execution_count": 7,
   "metadata": {},
   "outputs": [],
   "source": [
    "#convert a given string to camel case\n",
    "\n",
    "ans = \"\"\n",
    "def camel_case(string):\n",
    "    for letter in string:\n",
    "        if letter.isupper():\n",
    "            ans.append(letter)\n",
    "    return ans\n"
   ]
  },
  {
   "cell_type": "code",
   "execution_count": 8,
   "metadata": {},
   "outputs": [
    {
     "ename": "AttributeError",
     "evalue": "'str' object has no attribute 'append'",
     "output_type": "error",
     "traceback": [
      "\u001b[1;31m---------------------------------------------------------------------------\u001b[0m",
      "\u001b[1;31mAttributeError\u001b[0m                            Traceback (most recent call last)",
      "\u001b[1;32mUbuntu-18.04\\home\\lmedina20\\programming-notes\\PythonFunctions.ipynb Cell 10\u001b[0m in \u001b[0;36m<module>\u001b[1;34m\u001b[0m\n\u001b[1;32m----> <a href='vscode-notebook-cell://wsl%24/Ubuntu-18.04/home/lmedina20/programming-notes/PythonFunctions.ipynb#ch0000010?line=0'>1</a>\u001b[0m camel_case(\u001b[39m\"\u001b[39;49m\u001b[39mWOW\u001b[39;49m\u001b[39m\"\u001b[39;49m)\n",
      "\u001b[1;32mUbuntu-18.04\\home\\lmedina20\\programming-notes\\PythonFunctions.ipynb Cell 10\u001b[0m in \u001b[0;36mcamel_case\u001b[1;34m(string)\u001b[0m\n\u001b[0;32m      <a href='vscode-notebook-cell://wsl%24/Ubuntu-18.04/home/lmedina20/programming-notes/PythonFunctions.ipynb#ch0000010?line=4'>5</a>\u001b[0m \u001b[39mfor\u001b[39;00m letter \u001b[39min\u001b[39;00m string:\n\u001b[0;32m      <a href='vscode-notebook-cell://wsl%24/Ubuntu-18.04/home/lmedina20/programming-notes/PythonFunctions.ipynb#ch0000010?line=5'>6</a>\u001b[0m     \u001b[39mif\u001b[39;00m letter\u001b[39m.\u001b[39misupper():\n\u001b[1;32m----> <a href='vscode-notebook-cell://wsl%24/Ubuntu-18.04/home/lmedina20/programming-notes/PythonFunctions.ipynb#ch0000010?line=6'>7</a>\u001b[0m         ans\u001b[39m.\u001b[39;49mappend(letter)\n\u001b[0;32m      <a href='vscode-notebook-cell://wsl%24/Ubuntu-18.04/home/lmedina20/programming-notes/PythonFunctions.ipynb#ch0000010?line=7'>8</a>\u001b[0m \u001b[39mreturn\u001b[39;00m ans\n",
      "\u001b[1;31mAttributeError\u001b[0m: 'str' object has no attribute 'append'"
     ]
    }
   ],
   "source": [
    "camel_case(\"WOW\")"
   ]
  },
  {
   "cell_type": "code",
   "execution_count": null,
   "metadata": {},
   "outputs": [],
   "source": [
    "#Given an array arr[] of N strings, \n",
    "#each containing words with upper or lower case English alphabets, \n",
    "#the task is to create a sentence in a Camel Case format using them.\n",
    "\n",
    "def convertCase(arr, N):\n",
    "    #store final sentence\n",
    "    ans = \"\"\n",
    "\n",
    "    #loop to iterate over the given array\n",
    "    for word in range(N):\n",
    "        if(len(ans) > 0):\n",
    "            \n"
   ]
  },
  {
   "cell_type": "code",
   "execution_count": null,
   "metadata": {},
   "outputs": [],
   "source": [
    "#hackerrank - jpmorgan question\n",
    "\n",
    "def longestEvenWord(sentence):\n",
    "    longestWord = ''\n",
    "\n",
    "    for word in sentence:\n",
    "        if len(word) > len(longestWord):\n",
    "            longestWord += word\n",
    "    return(longestWord)"
   ]
  }
 ],
 "metadata": {
  "kernelspec": {
   "display_name": "Python 3.9.6 64-bit",
   "language": "python",
   "name": "python3"
  },
  "language_info": {
   "codemirror_mode": {
    "name": "ipython",
    "version": 3
   },
   "file_extension": ".py",
   "mimetype": "text/x-python",
   "name": "python",
   "nbconvert_exporter": "python",
   "pygments_lexer": "ipython3",
   "version": "3.9.6"
  },
  "orig_nbformat": 4,
  "vscode": {
   "interpreter": {
    "hash": "35814977a283cd769a53edfec29b9560f6d54622677c01a029034c610ae113d2"
   }
  }
 },
 "nbformat": 4,
 "nbformat_minor": 2
}
