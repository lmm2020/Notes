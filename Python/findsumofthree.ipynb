{
 "cells": [
  {
   "cell_type": "code",
   "execution_count": null,
   "metadata": {},
   "outputs": [],
   "source": [
    "''' \n",
    "Determine if the sum of three integers is equal to the given value. \n",
    "\n",
    "Given an array of integers and a value, determine if there are any three integers in the array whose sum equals the given value.\n",
    "\n",
    "Consider this array and target sums. \n",
    "Array = [3,7,1,2,8,4,5]\n",
    "Target sum = 20 (5 + 7 + 8)\n",
    "Target sum = 21 (No 3 values sum up to 21)\n",
    "\n",
    "Hint:\n",
    "-sort data\n",
    "-iterate from both ends\n",
    "'''"
   ]
  },
  {
   "cell_type": "code",
   "execution_count": null,
   "metadata": {},
   "outputs": [],
   "source": [
    "def find_sum_of_three(arr, required_sum):\n",
    "    #sort the array\n",
    "\n",
    "    #fix one element 'e' and find a pair (a,b) in remaining arrat\n",
    "    #such that required_sum - e = a + b\n",
    "    \n",
    "    return False"
   ]
  }
 ],
 "metadata": {
  "language_info": {
   "name": "python"
  },
  "orig_nbformat": 4
 },
 "nbformat": 4,
 "nbformat_minor": 2
}
