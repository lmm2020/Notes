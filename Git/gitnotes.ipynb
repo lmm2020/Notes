{
 "cells": [
  {
   "cell_type": "markdown",
   "metadata": {},
   "source": [
    "Github\n",
    "Commands"
   ]
  },
  {
   "cell_type": "markdown",
   "metadata": {},
   "source": [
    "to pull a remote repo, creates folder in vscode:\n",
    "\n",
    "        git clone [ssh key]"
   ]
  },
  {
   "cell_type": "markdown",
   "metadata": {},
   "source": [
    "add everything in the current folder:       \n",
    "\n",
    "    git add .\n"
   ]
  }
 ],
 "metadata": {
  "interpreter": {
   "hash": "b81bd998f5e06d1e12e6f5797a5ef2e6ca2a465bf0d0caddc9c77c652e6c18e6"
  },
  "kernelspec": {
   "display_name": "Python 3.8.12 ('datavenv')",
   "language": "python",
   "name": "python3"
  },
  "language_info": {
   "codemirror_mode": {
    "name": "ipython",
    "version": 3
   },
   "file_extension": ".py",
   "mimetype": "text/x-python",
   "name": "python",
   "nbconvert_exporter": "python",
   "pygments_lexer": "ipython3",
   "version": "3.8.12"
  },
  "orig_nbformat": 4
 },
 "nbformat": 4,
 "nbformat_minor": 2
}
